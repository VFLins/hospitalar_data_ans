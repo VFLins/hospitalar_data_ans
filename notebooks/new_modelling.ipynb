{
 "cells": [
  {
   "cell_type": "markdown",
   "id": "2fbd8ca1-60ad-4252-a965-0688e321d162",
   "metadata": {},
   "source": [
    "# Modelagem de classificação de clientes com dados da saúde suplementar\n",
    "\n",
    "Vamos usar os [dados obtidos anteriormente](https://github.com/VFLins/hospitalar_data_ans/blob/main/notebooks/collect_routine_ans.ipynb) e o conhecimento que obtivemos na sua [análise exploratória](https://vflins.github.io/hospitalar_data_ans/pages/eda.html) para produzir uma solução de dados com valor de negócio para empresas do **setor de operação de saúde.**\n",
    "\n",
    "A proposta deste modelo é produzir um indicador do *\"custo potencial de aquisição\"* de um cliente. Esta solução pode facilitar grandemente a precificação dos produtos de saúde, além disso, neste processo podemos acabar aprendendo mais sobre os diferentes tipos de perfis de clientes e suas necessidades!"
   ]
  },
  {
   "cell_type": "code",
   "execution_count": 1,
   "id": "b674eb91-bfb8-4fd4-b431-6626aa184142",
   "metadata": {},
   "outputs": [
    {
     "name": "stderr",
     "output_type": "stream",
     "text": [
      "24/04/07 17:18:16 WARN Utils: Your hostname, DESKTOP-RFN0UB8 resolves to a loopback address: 127.0.1.1; using 172.18.59.98 instead (on interface eth0)\n",
      "24/04/07 17:18:16 WARN Utils: Set SPARK_LOCAL_IP if you need to bind to another address\n",
      "Setting default log level to \"WARN\".\n",
      "To adjust logging level use sc.setLogLevel(newLevel). For SparkR, use setLogLevel(newLevel).\n",
      "24/04/07 17:18:18 WARN NativeCodeLoader: Unable to load native-hadoop library for your platform... using builtin-java classes where applicable\n"
     ]
    }
   ],
   "source": [
    "# imports\n",
    "\n",
    "from pyspark.sql import SparkSession\n",
    "\n",
    "spark = SparkSession.builder.getOrCreate()\n",
    "sc = spark.sparkContext\n",
    "sc.setLogLevel(\"ERROR\")"
   ]
  },
  {
   "cell_type": "code",
   "execution_count": null,
   "id": "ced139e5-a16a-45ba-aed4-79bd7b12647c",
   "metadata": {},
   "outputs": [],
   "source": [
    "# variaveis de conexao\n",
    "\n",
    "drivername = \"oracle.jdbc.OracleDriver\"\n",
    "WALLET_PLACE = \"/home/user/Downloads/wallet_demodb\"\n",
    "URL = f\"jdbc:oracle:thin:@demodb_medium?TNS_ADMIN={WALLET_PLACE}\"\n",
    "USR = \"ADMIN\"\n",
    "PWD = getpass(\"Insira a senha de administrador do banco de dados: \")"
   ]
  },
  {
   "cell_type": "code",
   "execution_count": null,
   "id": "b8134f53-61d6-4970-b514-6a09f98a116e",
   "metadata": {},
   "outputs": [],
   "source": [
    "# conjuntos de dados\n",
    "\n",
    "tablename = \"HOSP_CONS\"\n",
    "query = f\"SELECT * FROM {tablename}\"\n",
    "\n",
    "cons_df = spark.read.format(\"jdbc\")\\\n",
    "  .option(\"driver\", drivername)\\\n",
    "  .option(\"query\", query)\\\n",
    "  .option(\"url\", URL)\\\n",
    "  .option(\"user\", USR)\\\n",
    "  .option(\"password\", PWD)\\\n",
    "  .load()\n",
    "\n",
    "\n",
    "tablename = \"HOSP_DET\"\n",
    "query = f\"SELECT * FROM {tablename}\"\n",
    "\n",
    "det_df = spark.read.format(\"jdbc\")\\\n",
    "  .option(\"driver\", drivername)\\\n",
    "  .option(\"query\", query)\\\n",
    "  .option(\"url\", URL)\\\n",
    "  .option(\"user\", USR)\\\n",
    "  .option(\"password\", PWD)\\\n",
    "  .load()"
   ]
  },
  {
   "cell_type": "markdown",
   "id": "00745c1b-be7b-4800-8d3c-f644b14324a1",
   "metadata": {},
   "source": [
    "## 1 Criando um *target*\n",
    "\n",
    "Vamos abordar este problema usando um modelo de classificação. Para isto vamos precisar de um variável target binária que separe os clientes entre \"alto custo de aquisição\" e \"baixo custo de aquisição\". Usaremos a probabilidade estimada de um cliente pertencer a um grupo ou à outro como o *score* que indica seu custo potencial de aquisição."
   ]
  },
  {
   "cell_type": "code",
   "execution_count": null,
   "id": "23ac6e82-8486-4219-b6fc-399d1d06aae9",
   "metadata": {},
   "outputs": [],
   "source": []
  }
 ],
 "metadata": {
  "kernelspec": {
   "display_name": "Python 3 (ipykernel)",
   "language": "python",
   "name": "python3"
  },
  "language_info": {
   "codemirror_mode": {
    "name": "ipython",
    "version": 3
   },
   "file_extension": ".py",
   "mimetype": "text/x-python",
   "name": "python",
   "nbconvert_exporter": "python",
   "pygments_lexer": "ipython3",
   "version": "3.11.2"
  }
 },
 "nbformat": 4,
 "nbformat_minor": 5
}
